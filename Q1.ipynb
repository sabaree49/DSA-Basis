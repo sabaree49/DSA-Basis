{
 "cells": [
  {
   "cell_type": "code",
   "execution_count": 6,
   "id": "c5f8aba3",
   "metadata": {},
   "outputs": [
    {
     "name": "stdout",
     "output_type": "stream",
     "text": [
      "Count of pairs is, 3\n"
     ]
    }
   ],
   "source": [
    "def sum_pairs(arr, n, sum):\n",
    "    count = 0\n",
    "    for i in range(0, n):\n",
    "        for j in range(i + 1, n):\n",
    "            if arr[i] + arr[j] == sum:\n",
    "                count += 1\n",
    "    return count\n",
    " \n",
    "arr = [1,2,3,5,6,8,2,4]\n",
    "n = len(arr)\n",
    "sum = 5\n",
    "print(f\"Count of pairs is, {sum_pairs(arr, n, sum)}\")"
   ]
  },
  {
   "cell_type": "code",
   "execution_count": null,
   "id": "6f5353fd",
   "metadata": {},
   "outputs": [],
   "source": []
  }
 ],
 "metadata": {
  "kernelspec": {
   "display_name": "Python 3 (ipykernel)",
   "language": "python",
   "name": "python3"
  },
  "language_info": {
   "codemirror_mode": {
    "name": "ipython",
    "version": 3
   },
   "file_extension": ".py",
   "mimetype": "text/x-python",
   "name": "python",
   "nbconvert_exporter": "python",
   "pygments_lexer": "ipython3",
   "version": "3.9.6"
  }
 },
 "nbformat": 4,
 "nbformat_minor": 5
}
