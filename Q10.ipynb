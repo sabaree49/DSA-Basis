{
 "cells": [
  {
   "cell_type": "code",
   "execution_count": 2,
   "id": "2ea0e764",
   "metadata": {},
   "outputs": [
    {
     "name": "stdout",
     "output_type": "stream",
     "text": [
      "[1, 2, 32, 4, 5, 6, 7]\n",
      "1\n"
     ]
    }
   ],
   "source": [
    "class stack:\n",
    "    def __init__(self):\n",
    "        self.s=[]\n",
    "        self.smallest_num=None\n",
    "\n",
    "    def push(self,x):\n",
    "        if not self.s:\n",
    "            self.smallest_num=x\n",
    "            self.s.append(x)\n",
    "            return\n",
    "        if x<self.smallest_num:\n",
    "            self.s.append(2*x-self.smallest_num)\n",
    "            self.smallest_num=x\n",
    "        else:\n",
    "            self.s.append(x)\n",
    "\n",
    "    def pop(self):\n",
    "\n",
    "        if not self.s:\n",
    "            return -1\n",
    "\n",
    "        top=self.s.pop()\n",
    "\n",
    "        if top<self.smallest_num:\n",
    "            k=self.smallest_num\n",
    "            self.smallest_num=2*k-top\n",
    "            return k\n",
    "        else:\n",
    "            return top\n",
    "\n",
    "    def getMin(self):\n",
    "        if not self.s:\n",
    "            return -1\n",
    "        else:\n",
    "            return self.smallest_num\n",
    "\n",
    "min_num=stack()\n",
    "\n",
    "for x in [1,2,32,4,5,6,7]:\n",
    "    min_num.push(x)\n",
    "\n",
    "print(min_num.s)\n",
    "\n",
    "print(min_num.getMin())"
   ]
  },
  {
   "cell_type": "code",
   "execution_count": null,
   "id": "bd75b47b",
   "metadata": {},
   "outputs": [],
   "source": []
  }
 ],
 "metadata": {
  "kernelspec": {
   "display_name": "Python 3 (ipykernel)",
   "language": "python",
   "name": "python3"
  },
  "language_info": {
   "codemirror_mode": {
    "name": "ipython",
    "version": 3
   },
   "file_extension": ".py",
   "mimetype": "text/x-python",
   "name": "python",
   "nbconvert_exporter": "python",
   "pygments_lexer": "ipython3",
   "version": "3.9.6"
  }
 },
 "nbformat": 4,
 "nbformat_minor": 5
}
